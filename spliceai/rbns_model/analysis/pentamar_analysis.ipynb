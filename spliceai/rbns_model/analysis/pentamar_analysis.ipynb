{
 "cells": [
  {
   "cell_type": "code",
   "execution_count": 4,
   "metadata": {},
   "outputs": [],
   "source": [
    "def generate_pentamer_dict():\n",
    "    pentamer_dict = dict()\n",
    "    for base_0 in ['A', 'C', 'T', 'G']:\n",
    "        for base_1 in ['A', 'C', 'T', 'G']:\n",
    "            for base_2 in ['A', 'C', 'T', 'G']:\n",
    "                for base_3 in ['A', 'C', 'T', 'G']:\n",
    "                    for base_4 in ['A', 'C', 'T', 'G']:\n",
    "                        pentamer = base_0 + base_1 + base_2 + base_3 + base_4\n",
    "                        pentamer_dict[pentamer] = 0.0\n",
    "    return pentamer_dict\n",
    "\n",
    "def get_pentamer_freq(file_name):\n",
    "    pentamer_dict = generate_pentamer_dict()\n",
    "    f = open(file_name, 'r')\n",
    "    bound = 10000\n",
    "    i = 0\n",
    "    for line in f:\n",
    "        seq = line[:-1]\n",
    "        for pentamer, num in pentamer_dict.items():\n",
    "            pentamer_dict[pentamer] += seq.count(pentamer)\n",
    "        i += 1\n",
    "        if i > bound:\n",
    "            break\n",
    "    return pentamer_dict\n",
    "\n",
    "def get_top_enrichment_pentamer(file_name, base_file_name):\n",
    "    output_pentamer_num_dict = get_pentamer_freq(file_name)\n",
    "    input_pentamer_num_dict = get_pentamer_freq(base_file_name)\n",
    "    for pentamer, num in output_pentamer_num_dict.items():\n",
    "        if num > 0:\n",
    "            output_pentamer_num_dict[pentamer] = output_pentamer_num_dict[pentamer]/input_pentamer_num_dict[pentamer]\n",
    "    print(f\"max enrichment pentamer: {max(output_pentamer_num_dict, key=output_pentamer_num_dict.get)}; enrichment: {output_pentamer_num_dict[max(output_pentamer_num_dict, key=output_pentamer_num_dict.get)]}\")\n"
   ]
  },
  {
   "cell_type": "code",
   "execution_count": 5,
   "metadata": {},
   "outputs": [
    {
     "name": "stdout",
     "output_type": "stream",
     "text": [
      "max enrichment pentamer: TAGGG; enrichment: 3.089041095890411\n",
      "max enrichment pentamer: TAGGG; enrichment: 2.356164383561644\n",
      "max enrichment pentamer: TAGGG; enrichment: 1.9246575342465753\n"
     ]
    }
   ],
   "source": [
    "data_dir = f\"../rbns_raw_data\"\n",
    "HNRNPA1_DATA_DIR = f\"{data_dir}/HNRNPA1_split_reads/\"\n",
    "RALY_DATA_DIR = f\"{data_dir}/RALY/\"\n",
    "\n",
    "# HNRNPA1: 5\n",
    "get_top_enrichment_pentamer(HNRNPA1_DATA_DIR+'HNRNPA1_0nM_5.reads', HNRNPA1_DATA_DIR+'HNRNPA1_0nM_input.reads')\n",
    "get_top_enrichment_pentamer(HNRNPA1_DATA_DIR+'HNRNPA1_0nM_80.reads', HNRNPA1_DATA_DIR+'HNRNPA1_0nM_input.reads')\n",
    "get_top_enrichment_pentamer(HNRNPA1_DATA_DIR+'HNRNPA1_0nM_1300.reads', HNRNPA1_DATA_DIR+'HNRNPA1_0nM_input.reads')"
   ]
  },
  {
   "cell_type": "code",
   "execution_count": 6,
   "metadata": {},
   "outputs": [
    {
     "name": "stdout",
     "output_type": "stream",
     "text": [
      "max enrichment pentamer: TTTTT; enrichment: 4.514851485148514\n",
      "max enrichment pentamer: TTTTT; enrichment: 7.376237623762377\n",
      "max enrichment pentamer: TTTTT; enrichment: 9.306930693069306\n",
      "max enrichment pentamer: AAAAA; enrichment: 4.372413793103449\n",
      "max enrichment pentamer: TTTTT; enrichment: 8.732673267326733\n"
     ]
    }
   ],
   "source": [
    "# RALY: 80\n",
    "get_top_enrichment_pentamer(RALY_DATA_DIR+'RALY_5.reads', RALY_DATA_DIR+'RALY_input.reads')\n",
    "get_top_enrichment_pentamer(RALY_DATA_DIR+'RALY_20.reads', RALY_DATA_DIR+'RALY_input.reads')\n",
    "get_top_enrichment_pentamer(RALY_DATA_DIR+'RALY_80.reads', RALY_DATA_DIR+'RALY_input.reads')\n",
    "get_top_enrichment_pentamer(RALY_DATA_DIR+'RALY_320.reads', RALY_DATA_DIR+'RALY_input.reads')\n",
    "get_top_enrichment_pentamer(RALY_DATA_DIR+'RALY_1300.reads', RALY_DATA_DIR+'RALY_input.reads')"
   ]
  }
 ],
 "metadata": {
  "kernelspec": {
   "display_name": "Python 3.8.12 ('base')",
   "language": "python",
   "name": "python3"
  },
  "language_info": {
   "codemirror_mode": {
    "name": "ipython",
    "version": 3
   },
   "file_extension": ".py",
   "mimetype": "text/x-python",
   "name": "python",
   "nbconvert_exporter": "python",
   "pygments_lexer": "ipython3",
   "version": "3.8.12"
  },
  "orig_nbformat": 4,
  "vscode": {
   "interpreter": {
    "hash": "9d72ff22b97ef322fff9a99326e8cb5462582062f37eb0306d3432c8b1b511f1"
   }
  }
 },
 "nbformat": 4,
 "nbformat_minor": 2
}
