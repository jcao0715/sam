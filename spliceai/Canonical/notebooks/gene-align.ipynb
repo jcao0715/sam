{
 "cells": [
  {
   "cell_type": "code",
   "execution_count": 1,
   "metadata": {},
   "outputs": [],
   "source": [
    "import os\n",
    "os.chdir(\"..\")\n",
    "os.environ[\"CUDA_VISIBLE_DEVICES\"] = \"6\""
   ]
  },
  {
   "cell_type": "code",
   "execution_count": 4,
   "metadata": {},
   "outputs": [
    {
     "name": "stdout",
     "output_type": "stream",
     "text": [
      "The autoreload extension is already loaded. To reload it, use:\n",
      "  %reload_ext autoreload\n"
     ]
    }
   ],
   "source": [
    "%load_ext autoreload\n",
    "%autoreload 2\n",
    "%matplotlib inline"
   ]
  },
  {
   "cell_type": "code",
   "execution_count": 20,
   "metadata": {},
   "outputs": [],
   "source": [
    "import tqdm.auto as tqdm\n",
    "from modular_splicing.dataset.dataset_aligner import DatasetAligner"
   ]
  },
  {
   "cell_type": "code",
   "execution_count": 31,
   "metadata": {},
   "outputs": [],
   "source": [
    "def produce_alignment_results(suffix):\n",
    "    da = DatasetAligner(f\"dataset_{suffix}.h5\", f\"datafile_{suffix}.h5\", 5000)\n",
    "    results = []\n",
    "    for chunk_i, chunk_size in enumerate(tqdm.tqdm(da.dataset_sizes)):\n",
    "        for chunk_j in range(chunk_size):\n",
    "            gene_id, gene_off = da.get_gene_idx(chunk_i, chunk_j)\n",
    "            if gene_off == 0:\n",
    "                results.append({\"Gene Index\" : gene_id, \"Gene Name\": da.names[gene_id], \"Starting Chunk\" : chunk_i, \"Starting index\" : chunk_j})\n",
    "    results = pd.DataFrame(results)\n",
    "    assert len(da.names) == len(results)\n",
    "    assert list(range(len(results))) == list(results[\"Gene Index\"])\n",
    "    results.to_csv(f\"output-csvs/gene_alignment/alignment_file_{suffix}.csv\", index=False)"
   ]
  },
  {
   "cell_type": "code",
   "execution_count": 34,
   "metadata": {},
   "outputs": [
    {
     "data": {
      "application/vnd.jupyter.widget-view+json": {
       "model_id": "995e6bbb78364eb590cfe94b2e4135c2",
       "version_major": 2,
       "version_minor": 0
      },
      "text/plain": [
       "HBox(children=(HTML(value=''), FloatProgress(value=0.0, max=16.0), HTML(value='')))"
      ]
     },
     "metadata": {},
     "output_type": "display_data"
    },
    {
     "name": "stdout",
     "output_type": "stream",
     "text": [
      "\n"
     ]
    },
    {
     "data": {
      "application/vnd.jupyter.widget-view+json": {
       "model_id": "bff93cfa4e6440ff804820adcfb7bf8c",
       "version_major": 2,
       "version_minor": 0
      },
      "text/plain": [
       "HBox(children=(HTML(value=''), FloatProgress(value=0.0, max=133.0), HTML(value='')))"
      ]
     },
     "metadata": {},
     "output_type": "display_data"
    },
    {
     "name": "stdout",
     "output_type": "stream",
     "text": [
      "\n"
     ]
    }
   ],
   "source": [
    "produce_alignment_results(\"test_0\")\n",
    "produce_alignment_results(\"train_all\")"
   ]
  },
  {
   "cell_type": "code",
   "execution_count": null,
   "metadata": {},
   "outputs": [],
   "source": []
  }
 ],
 "metadata": {
  "kernelspec": {
   "display_name": "Python 3",
   "language": "python",
   "name": "python3"
  },
  "language_info": {
   "codemirror_mode": {
    "name": "ipython",
    "version": 3
   },
   "file_extension": ".py",
   "mimetype": "text/x-python",
   "name": "python",
   "nbconvert_exporter": "python",
   "pygments_lexer": "ipython3",
   "version": "3.8.3"
  }
 },
 "nbformat": 4,
 "nbformat_minor": 4
}
