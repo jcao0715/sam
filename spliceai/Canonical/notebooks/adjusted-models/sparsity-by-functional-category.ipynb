{
 "cells": [
  {
   "cell_type": "code",
   "execution_count": 1,
   "metadata": {},
   "outputs": [],
   "source": [
    "import os\n",
    "\n",
    "os.chdir(\"../..\")\n",
    "os.environ[\"CUDA_VISIBLE_DEVICES\"] = \"0\""
   ]
  },
  {
   "cell_type": "code",
   "execution_count": 2,
   "metadata": {},
   "outputs": [],
   "source": [
    "%load_ext autoreload\n",
    "%autoreload 2\n",
    "%matplotlib inline"
   ]
  },
  {
   "cell_type": "code",
   "execution_count": 3,
   "metadata": {},
   "outputs": [],
   "source": [
    "import tqdm.notebook as tqdm\n",
    "import numpy as np\n",
    "import matplotlib.pyplot as plt\n",
    "\n",
    "from modular_splicing.models_for_testing.main_models import AM, FM_full\n",
    "\n",
    "from modular_splicing.evaluation.predict_motifs import predict_motifs\n",
    "\n",
    "from modular_splicing.data_for_experiments.standardized_sample import (\n",
    "    standardized_sample,\n",
    ")\n",
    "from modular_splicing.motif_names import get_motif_names"
   ]
  },
  {
   "cell_type": "code",
   "execution_count": 4,
   "metadata": {},
   "outputs": [
    {
     "data": {
      "application/vnd.jupyter.widget-view+json": {
       "model_id": "afc929d1df5e42cdb5b77088865556ef",
       "version_major": 2,
       "version_minor": 0
      },
      "text/plain": [
       "HBox(children=(HTML(value=''), FloatProgress(value=0.0, max=1000.0), HTML(value='')))"
      ]
     },
     "metadata": {},
     "output_type": "display_data"
    },
    {
     "name": "stdout",
     "output_type": "stream",
     "text": [
      "\n"
     ]
    }
   ],
   "source": [
    "cl = 50\n",
    "xs, _ = standardized_sample(\"dataset_test_0.h5\", 1_000, cl)"
   ]
  },
  {
   "cell_type": "code",
   "execution_count": 5,
   "metadata": {},
   "outputs": [
    {
     "data": {
      "application/vnd.jupyter.widget-view+json": {
       "model_id": "b51baa21211040e9822250e1dedadee0",
       "version_major": 2,
       "version_minor": 0
      },
      "text/plain": [
       "HBox(children=(HTML(value=''), FloatProgress(value=0.0, max=5.0), HTML(value='')))"
      ]
     },
     "metadata": {},
     "output_type": "display_data"
    },
    {
     "name": "stdout",
     "output_type": "stream",
     "text": [
      "\n"
     ]
    },
    {
     "data": {
      "application/vnd.jupyter.widget-view+json": {
       "model_id": "020a720f143148f59ba342d06ebb87f4",
       "version_major": 2,
       "version_minor": 0
      },
      "text/plain": [
       "HBox(children=(HTML(value=''), FloatProgress(value=0.0, max=5.0), HTML(value='')))"
      ]
     },
     "metadata": {},
     "output_type": "display_data"
    },
    {
     "name": "stdout",
     "output_type": "stream",
     "text": [
      "\n"
     ]
    }
   ],
   "source": [
    "def freq(m):\n",
    "    mot = predict_motifs(m.model, xs)[:,cl//2:-cl//2, :79]\n",
    "    mot = mot != 0\n",
    "    mot = mot.mean((0, 1))\n",
    "    mot = mot * 100\n",
    "    return mot\n",
    "\n",
    "def all_freqs(m):\n",
    "    return np.array([freq(m) for m in tqdm.tqdm(m.non_binarized_models())])\n",
    "\n",
    "freq_am = all_freqs(AM)\n",
    "freq_fm = all_freqs(FM_full)\n",
    "dfreq = freq_am - freq_fm"
   ]
  },
  {
   "cell_type": "code",
   "execution_count": 6,
   "metadata": {},
   "outputs": [],
   "source": [
    "rbns_names = get_motif_names(\"rbns\")\n",
    "mask = np.array([x in get_motif_names(\"rbns_functional\") for x in rbns_names])"
   ]
  },
  {
   "cell_type": "code",
   "execution_count": 7,
   "metadata": {},
   "outputs": [
    {
     "data": {
      "image/png": "[encoded data removed]",
      "text/plain": [
       "<Figure size 432x288 with 1 Axes>"
      ]
     },
     "metadata": {
      "needs_background": "light"
     },
     "output_type": "display_data"
    }
   ],
   "source": [
    "dfreq_mean = dfreq.mean(0)\n",
    "binsize = 0.05\n",
    "bins = (\n",
    "    np.arange(np.floor(dfreq_mean.min() / binsize), np.ceil(dfreq_mean.max() / binsize))\n",
    "    * binsize\n",
    ")\n",
    "\n",
    "\n",
    "def relhist(vs, **kwargs):\n",
    "    plt.hist(vs, alpha=0.5, bins=bins, weights=np.ones_like(vs) / vs.size, **kwargs)\n",
    "    plt.axvline(vs.mean(), **kwargs)\n",
    "\n",
    "\n",
    "relhist(dfreq_mean[mask], label=\"functional\", color=\"red\")\n",
    "relhist(dfreq_mean[~mask], label=\"non-functional\", color=\"blue\")\n",
    "plt.xlabel(\"AM sparsity - FM sparsity [mean over 5 replicates]\")\n",
    "plt.ylabel(\"Relative frequency\")\n",
    "plt.legend()\n",
    "plt.show()\n",
    "# plt.xlim(-)"
   ]
  }
 ],
 "metadata": {
  "kernelspec": {
   "display_name": "Python 3",
   "language": "python",
   "name": "python3"
  },
  "language_info": {
   "codemirror_mode": {
    "name": "ipython",
    "version": 3
   },
   "file_extension": ".py",
   "mimetype": "text/x-python",
   "name": "python",
   "nbconvert_exporter": "python",
   "pygments_lexer": "ipython3",
   "version": "3.8.5"
  }
 },
 "nbformat": 4,
 "nbformat_minor": 4
}
