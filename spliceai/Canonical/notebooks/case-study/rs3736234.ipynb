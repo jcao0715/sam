{
 "cells": [
  {
   "cell_type": "code",
   "execution_count": 1,
   "metadata": {},
   "outputs": [],
   "source": [
    "import os\n",
    "\n",
    "os.chdir(\"../..\")\n",
    "os.environ[\"CUDA_VISIBLE_DEVICES\"] = \"2\""
   ]
  },
  {
   "cell_type": "code",
   "execution_count": 2,
   "metadata": {},
   "outputs": [],
   "source": [
    "import pandas as pd\n",
    "import numpy as np\n",
    "import matplotlib.pyplot as plt\n",
    "import tqdm.auto as tqdm\n",
    "import torch\n",
    "\n",
    "from modular_splicing.dataset.datafile_object import SpliceAIDatafile\n",
    "\n",
    "from modular_splicing.data_pipeline.create_dataset import create_datapoints\n",
    "from modular_splicing.models_for_testing.list import AM\n",
    "\n",
    "from modular_splicing.motif_names import get_motif_names"
   ]
  },
  {
   "cell_type": "code",
   "execution_count": 3,
   "metadata": {},
   "outputs": [],
   "source": [
    "%load_ext autoreload\n",
    "%autoreload 2\n",
    "%matplotlib inline"
   ]
  },
  {
   "cell_type": "code",
   "execution_count": 4,
   "metadata": {},
   "outputs": [],
   "source": [
    "CL_max = 10_000"
   ]
  },
  {
   "cell_type": "code",
   "execution_count": 5,
   "metadata": {},
   "outputs": [],
   "source": [
    "def load_gene(name):\n",
    "    dfile = SpliceAIDatafile.load(\"datafile_train_all.h5\")\n",
    "    [[idx]] = np.where(dfile.names == name)\n",
    "    assert dfile.datafile[\"STRAND\"][idx] == b\"-\"\n",
    "    x, [y] = create_datapoints(\n",
    "        dfile.datafile[\"SEQ\"][idx],\n",
    "        dfile.datafile[\"STRAND\"][idx],\n",
    "        tx_start=dfile.datafile[\"TX_START\"][idx],\n",
    "        tx_end=dfile.datafile[\"TX_END\"][idx],\n",
    "        jn_start=dfile.datafile[\"JN_START\"][idx],\n",
    "        jn_end=dfile.datafile[\"JN_END\"][idx],\n",
    "        SL=1_000_000,\n",
    "        CL_max=CL_max,\n",
    "    )\n",
    "    x, y = np.concatenate(x), np.concatenate(y)\n",
    "    return x, y, dfile.starts[idx], dfile.ends[idx]\n",
    "\n",
    "\n",
    "def kth_gene(y, k):\n",
    "    pos, _ = np.where(y[:, 1:])\n",
    "    # first intron is (0, 1)\n",
    "    # second exon is (1, 2)\n",
    "    # kth exon starts at 2 * k - 3\n",
    "    return pos[2 * k - 3 : 2 * k - 1]\n",
    "\n",
    "\n",
    "def context_around_allele(x, y, *, allele, which_exon, cl, sl, s, e):\n",
    "    extra = sl // 2\n",
    "    center = e - allele\n",
    "    exon = kth_gene(y, which_exon) - (center - extra)\n",
    "    x, y = (\n",
    "        x[CL_max // 2 + center - extra - cl // 2 : CL_max // 2 + cl // 2 + center + extra],\n",
    "        y[center - extra : center + extra],\n",
    "    )\n",
    "    return x, y, exon\n",
    "\n",
    "def case_study_data(*, gene_name, which_exon, allele, cl, sl):\n",
    "    x, y, s, e = load_gene(gene_name)\n",
    "    return context_around_allele(\n",
    "        x=x,\n",
    "        y=y,\n",
    "        allele=allele,\n",
    "        which_exon=which_exon,\n",
    "        sl=sl,\n",
    "        cl=cl,\n",
    "        s=s, e=e\n",
    "    )"
   ]
  },
  {
   "cell_type": "code",
   "execution_count": 6,
   "metadata": {},
   "outputs": [],
   "source": [
    "x, y, exon = case_study_data(\n",
    "    gene_name=\"OLR1\", which_exon=5, allele=10313134, cl=400, sl=5000\n",
    ")\n",
    "x_updated = x.copy()\n",
    "# G > A ==> C > T on the - strand\n",
    "x_updated[x.shape[0] // 2] = [0, 0, 0, 1]"
   ]
  },
  {
   "cell_type": "code",
   "execution_count": 7,
   "metadata": {},
   "outputs": [
    {
     "data": {
      "text/plain": [
       "'TTTGTGGATCCAACACTAAC'"
      ]
     },
     "execution_count": 7,
     "metadata": {},
     "output_type": "execute_result"
    }
   ],
   "source": [
    "from modular_splicing.utils.sequence_utils import draw_bases\n",
    "draw_bases(x.argmax(-1))[x.shape[0]//2-10:x.shape[0]//2+10]"
   ]
  },
  {
   "cell_type": "code",
   "execution_count": 8,
   "metadata": {},
   "outputs": [],
   "source": [
    "am = AM.non_binarized_model(1).model.cpu()"
   ]
  },
  {
   "cell_type": "code",
   "execution_count": 9,
   "metadata": {},
   "outputs": [],
   "source": [
    "def run_on_seq(am, x, exon):\n",
    "    with torch.no_grad():\n",
    "        res = am(torch.tensor([x]).float(), collect_intermediates=True)\n",
    "        out = res[\"output\"].softmax(-1).numpy()[0]\n",
    "        motifs = res[\"post_sparse_motifs_only\"].numpy()[0]\n",
    "    return out[exon, [1, 2]], motifs"
   ]
  },
  {
   "cell_type": "code",
   "execution_count": 10,
   "metadata": {},
   "outputs": [],
   "source": [
    "out, motifs = run_on_seq(am, x, exon)"
   ]
  },
  {
   "cell_type": "code",
   "execution_count": 11,
   "metadata": {},
   "outputs": [],
   "source": [
    "out_mut, motifs_mut = run_on_seq(am, x_updated, exon)"
   ]
  },
  {
   "cell_type": "code",
   "execution_count": 12,
   "metadata": {},
   "outputs": [
    {
     "name": "stdout",
     "output_type": "stream",
     "text": [
      "Without mutation: A=87.41% D=95.72%\n",
      "With mutation:    A=82.50% D=96.80%\n"
     ]
    }
   ],
   "source": [
    "print(\"Without mutation:\", f\"A={out[0]:.2%}\", f\"D={out[1]:.2%}\")\n",
    "print(\"With mutation:   \", f\"A={out_mut[0]:.2%}\", f\"D={out_mut[1]:.2%}\")"
   ]
  },
  {
   "cell_type": "code",
   "execution_count": 13,
   "metadata": {},
   "outputs": [],
   "source": [
    "names = np.array(get_motif_names(\"rbns\"))"
   ]
  },
  {
   "cell_type": "code",
   "execution_count": 14,
   "metadata": {},
   "outputs": [],
   "source": [
    "diff_pos, diff_mot_id = np.where(motifs != motifs_mut)\n",
    "diff_mot_names = names[diff_mot_id]"
   ]
  },
  {
   "cell_type": "code",
   "execution_count": 15,
   "metadata": {},
   "outputs": [
    {
     "data": {
      "text/plain": [
       "array(['SRSF5', 'RBM6', 'ZNF326'], dtype='<U9')"
      ]
     },
     "execution_count": 15,
     "metadata": {},
     "output_type": "execute_result"
    }
   ],
   "source": [
    "diff_mot_names"
   ]
  },
  {
   "cell_type": "code",
   "execution_count": null,
   "metadata": {},
   "outputs": [],
   "source": []
  }
 ],
 "metadata": {
  "kernelspec": {
   "display_name": "Python 3",
   "language": "python",
   "name": "python3"
  },
  "language_info": {
   "codemirror_mode": {
    "name": "ipython",
    "version": 3
   },
   "file_extension": ".py",
   "mimetype": "text/x-python",
   "name": "python",
   "nbconvert_exporter": "python",
   "pygments_lexer": "ipython3",
   "version": "3.8.5"
  }
 },
 "nbformat": 4,
 "nbformat_minor": 4
}
