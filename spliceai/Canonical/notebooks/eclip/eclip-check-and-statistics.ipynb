{
 "cells": [
  {
   "cell_type": "code",
   "execution_count": 1,
   "metadata": {},
   "outputs": [],
   "source": [
    "import os\n",
    "os.chdir(\"../..\")\n",
    "os.environ[\"CUDA_VISIBLE_DEVICES\"] = \"3\""
   ]
  },
  {
   "cell_type": "code",
   "execution_count": 2,
   "metadata": {},
   "outputs": [],
   "source": [
    "%load_ext autoreload\n",
    "%autoreload 2\n",
    "%matplotlib inline"
   ]
  },
  {
   "cell_type": "code",
   "execution_count": 3,
   "metadata": {},
   "outputs": [],
   "source": [
    "from functools import reduce\n",
    "from operator import mul\n",
    "\n",
    "import numpy as np\n",
    "import tqdm.auto as tqdm\n",
    "import pandas as pd\n",
    "import matplotlib.pyplot as plt\n",
    "\n",
    "from modular_splicing.eclip.test_motifs.names import peak_names\n",
    "from modular_splicing.eclip.data.pipeline import eclip_dataset_with_spliceai_pipeline, load_peaks"
   ]
  },
  {
   "cell_type": "code",
   "execution_count": 4,
   "metadata": {},
   "outputs": [],
   "source": [
    "assert peak_names(replicate_category=\"1\") == (peak_names(replicate_category=\"2\"))"
   ]
  },
  {
   "cell_type": "code",
   "execution_count": 5,
   "metadata": {},
   "outputs": [],
   "source": [
    "# Check the ordering start <= end\n",
    "\n",
    "dataset_path = \"canonical_dataset.txt\"\n",
    "sequence_path = \"canonical_sequence.txt\"\n",
    "genes = pd.read_csv(\n",
    "    dataset_path,\n",
    "    sep=\"\\t\",\n",
    "    names=[\n",
    "        \"gene\",\n",
    "        \"chunk\",\n",
    "        \"chrom\",\n",
    "        \"strand\",\n",
    "        \"start\",\n",
    "        \"end\",\n",
    "        \"donors\",\n",
    "        \"acceptors\",\n",
    "    ],\n",
    ")\n",
    "eclips_text = load_peaks(replicate_category=\"1\")\n",
    "for k in eclips_text:\n",
    "    assert (eclips_text[k].start <= eclips_text[k].end).all()\n",
    "assert (genes.start <= genes.end).all()\n",
    "arrayifier = lambda x: np.array(list(map(int, x.strip(\",\").split(\",\"))))\n",
    "don, acc = genes.donors.map(arrayifier), genes.acceptors.map(arrayifier)\n",
    "assert np.all([(x <= y).all() for x, y in zip(don, acc)])"
   ]
  },
  {
   "cell_type": "code",
   "execution_count": 6,
   "metadata": {
    "scrolled": true
   },
   "outputs": [],
   "source": [
    "total, bad, result = eclip_dataset_with_spliceai_pipeline(\n",
    "    replicate_category=\"1\",\n",
    "    is_train=False,\n",
    "    dataset_path=\"canonical_dataset.txt\",\n",
    "    sequence_path=\"canonical_sequence.txt\",\n",
    ")"
   ]
  },
  {
   "cell_type": "code",
   "execution_count": 7,
   "metadata": {},
   "outputs": [],
   "source": [
    "percentages = {k : bad[k] / total[k] for k in sorted(total)}"
   ]
  },
  {
   "cell_type": "code",
   "execution_count": 8,
   "metadata": {},
   "outputs": [
    {
     "data": {
      "image/png": "[encoded data removed]",
      "text/plain": [
       "<Figure size 600x400 with 1 Axes>"
      ]
     },
     "metadata": {
      "needs_background": "light"
     },
     "output_type": "display_data"
    }
   ],
   "source": [
    "plt.figure(dpi=100)\n",
    "pctgs = np.array(list(percentages.values())) * 100\n",
    "lo, hi = int(pctgs.min()) - 3, int(pctgs.max()) + 3\n",
    "plt.hist(pctgs, bins=np.arange(lo, hi + 1))\n",
    "plt.xlim(lo, hi)\n",
    "plt.xlabel(\"eCLIPs not in a gene [%]\")\n",
    "plt.ylabel(\"Frequency\")\n",
    "plt.show()"
   ]
  }
 ],
 "metadata": {
  "kernelspec": {
   "display_name": "Python 3",
   "language": "python",
   "name": "python3"
  },
  "language_info": {
   "codemirror_mode": {
    "name": "ipython",
    "version": 3
   },
   "file_extension": ".py",
   "mimetype": "text/x-python",
   "name": "python",
   "nbconvert_exporter": "python",
   "pygments_lexer": "ipython3",
   "version": "3.8.5"
  }
 },
 "nbformat": 4,
 "nbformat_minor": 4
}
