{
 "cells": [
  {
   "cell_type": "code",
   "execution_count": 1,
   "metadata": {},
   "outputs": [],
   "source": [
    "import os\n",
    "\n",
    "os.chdir(\"../..\")\n",
    "os.environ[\"CUDA_VISIBLE_DEVICES\"] = \"3\""
   ]
  },
  {
   "cell_type": "code",
   "execution_count": 2,
   "metadata": {},
   "outputs": [],
   "source": [
    "%load_ext autoreload\n",
    "%autoreload 2\n",
    "%matplotlib inline"
   ]
  },
  {
   "cell_type": "code",
   "execution_count": 3,
   "metadata": {},
   "outputs": [],
   "source": [
    "from modular_splicing.motif_names import get_motif_names\n",
    "from modular_splicing.psams.sources import (\n",
    "    rbns_rnacompete_motifs_deduplicated\n",
    ")\n",
    "\n",
    "from modular_splicing.eclip.test_motifs.names import peak_names"
   ]
  },
  {
   "cell_type": "code",
   "execution_count": 4,
   "metadata": {
    "scrolled": true
   },
   "outputs": [],
   "source": [
    "eclip_names = set(peak_names(replicate_category=\"1\"))\n",
    "rbnsp_names = set(get_motif_names(\"rbns\"))"
   ]
  },
  {
   "cell_type": "code",
   "execution_count": 5,
   "metadata": {},
   "outputs": [
    {
     "data": {
      "text/plain": [
       "18"
      ]
     },
     "execution_count": 5,
     "metadata": {},
     "output_type": "execute_result"
    }
   ],
   "source": [
    "len(set(eclip_names) & set(rbnsp_names))"
   ]
  },
  {
   "cell_type": "code",
   "execution_count": 6,
   "metadata": {},
   "outputs": [
    {
     "data": {
      "text/plain": [
       "12"
      ]
     },
     "execution_count": 6,
     "metadata": {},
     "output_type": "execute_result"
    }
   ],
   "source": [
    "len((set(eclip_names) - set(rbnsp_names)) & set(rbns_rnacompete_motifs_deduplicated()))"
   ]
  },
  {
   "cell_type": "code",
   "execution_count": 7,
   "metadata": {},
   "outputs": [
    {
     "name": "stdout",
     "output_type": "stream",
     "text": [
      "AARS, AATF, ABCF1, AGGF1, AKAP1, AKAP8L, APOBEC3C, AQR, BUD13, CPSF6, CSTF2T, DDX21, DDX24, DDX3X, DDX42, DDX51, DDX52, DDX55, DDX6, DGCR8, DHX30, DROSHA, EFTUD2, EIF3G, EXOSC5, FAM120A, FASTKD2, FTO, GEMIN5, GNL3, GPKOW, GRWD1, GTF2F1, HLTF, HNRNPM, HNRNPU, HNRNPUL1, ILF3, LARP4, LARP7, LIN28B, LSM11, METAP2, MTPAP, NCBP2, NIPBL, NOLC1, NONO, NPM1, NSUN2, PHF6, PPIL4, PRPF8, PUM2, PUS1, RBM15, RPS11, RPS3, SAFB, SAFB2, SBDS, SDAD1, SERBP1, SF3B1, SF3B4, SLBP, SLTM, SMNDC1, SND1, SSB, SUPV3L1, TBRG4, TROVE2, U2AF1, UCHL5, UPF1, UTP18, UTP3, WDR3, WDR43, WRN, XRCC6, XRN2, YBX3, YWHAG, ZC3H11A, ZC3H8, ZNF622, ZNF800, ZRANB2\n"
     ]
    }
   ],
   "source": [
    "print(\", \".join(sorted(set(eclip_names) - set(rbns_rnacompete_motifs_deduplicated()))))"
   ]
  },
  {
   "cell_type": "code",
   "execution_count": 8,
   "metadata": {},
   "outputs": [
    {
     "name": "stdout",
     "output_type": "stream",
     "text": [
      "['CPEB4', 'EIF4G2', 'EWSR1', 'FMR1', 'FUS', 'FXR1', 'FXR2', 'HNRNPA1', 'HNRNPC', 'HNRNPK', 'HNRNPL', 'IGF2BP1', 'IGF2BP2', 'KHDRBS1', 'KHSRP', 'MATR3', 'PABPC4', 'PCBP1', 'PTBP1', 'PUM1', 'QKI', 'RBFOX2', 'RBM22', 'SRSF1', 'SRSF7', 'TAF15', 'TARDBP', 'TIA1', 'TRA2A', 'U2AF2']\n"
     ]
    }
   ],
   "source": [
    "print(sorted(set(eclip_names) & set(rbns_rnacompete_motifs_deduplicated())))"
   ]
  },
  {
   "cell_type": "code",
   "execution_count": 9,
   "metadata": {},
   "outputs": [
    {
     "name": "stdout",
     "output_type": "stream",
     "text": [
      "['EIF4G2', 'EWSR1', 'FUS', 'HNRNPA1', 'HNRNPC', 'HNRNPK', 'HNRNPL', 'IGF2BP1', 'IGF2BP2', 'KHSRP', 'PCBP1', 'PUM1', 'RBFOX2', 'RBM22', 'TAF15', 'TARDBP', 'TIA1', 'TRA2A']\n"
     ]
    }
   ],
   "source": [
    "print(sorted(set(eclip_names) & set(rbnsp_names)))"
   ]
  },
  {
   "cell_type": "code",
   "execution_count": 10,
   "metadata": {},
   "outputs": [
    {
     "name": "stdout",
     "output_type": "stream",
     "text": [
      "['A1CF', 'BOLL', 'CELF1', 'CNOT4', 'CPEB1', 'CPEB4', 'DAZ3', 'DAZAP1', 'EIF4G2', 'ELAVL4', 'ESRP1', 'EWSR1', 'FMR1', 'FUBP1', 'FUBP3', 'FUS', 'FXR1', 'FXR2', 'HNRNPA0', 'HNRNPA1', 'HNRNPA2B1', 'HNRNPC', 'HNRNPCL1', 'HNRNPD', 'HNRNPDL', 'HNRNPF', 'HNRNPH2', 'HNRNPK', 'HNRNPL', 'IGF2BP1', 'IGF2BP2', 'ILF2', 'KHDRBS1', 'KHDRBS2', 'KHDRBS3', 'KHSRP', 'MATR3', 'MBNL1', 'MSI1', 'NOVA1', 'NUPL2', 'PABPC4', 'PABPN1L', 'PCBP1', 'PCBP2', 'PCBP4', 'PRR3', 'PTBP1', 'PTBP3', 'PUF60', 'PUM1', 'QKI', 'RALY', 'RBFOX2', 'RBFOX3', 'RBM15B', 'RBM22', 'RBM23', 'RBM24', 'RBM25', 'RBM4', 'RBM41', 'RBM45', 'RBM47', 'RBM4B', 'RBM6', 'RBMS2', 'RBMS3', 'RC3H1', 'SF1', 'SFPQ', 'SNRPA', 'SRSF1', 'SRSF10', 'SRSF11', 'SRSF2', 'SRSF4', 'SRSF5', 'SRSF7', 'SRSF8', 'SRSF9', 'TAF15', 'TARDBP', 'TIA1', 'TRA2A', 'TRNAU1AP', 'U2AF2', 'UNK', 'ZCRB1', 'ZFP36', 'ZNF326']\n"
     ]
    }
   ],
   "source": [
    "print(sorted((set(rbnsp_names) | (set(eclip_names) & set(rbns_rnacompete_motifs_deduplicated()))) - set([\"3P\", \"5P\"])))"
   ]
  }
 ],
 "metadata": {
  "kernelspec": {
   "display_name": "Python 3",
   "language": "python",
   "name": "python3"
  },
  "language_info": {
   "codemirror_mode": {
    "name": "ipython",
    "version": 3
   },
   "file_extension": ".py",
   "mimetype": "text/x-python",
   "name": "python",
   "nbconvert_exporter": "python",
   "pygments_lexer": "ipython3",
   "version": "3.8.5"
  }
 },
 "nbformat": 4,
 "nbformat_minor": 4
}
