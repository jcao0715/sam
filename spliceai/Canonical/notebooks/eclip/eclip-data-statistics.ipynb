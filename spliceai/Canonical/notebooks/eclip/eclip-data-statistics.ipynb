{
 "cells": [
  {
   "cell_type": "code",
   "execution_count": 1,
   "metadata": {},
   "outputs": [],
   "source": [
    "import os\n",
    "os.chdir(\"..\")\n",
    "os.environ[\"CUDA_VISIBLE_DEVICES\"] = \"3\""
   ]
  },
  {
   "cell_type": "code",
   "execution_count": 2,
   "metadata": {},
   "outputs": [],
   "source": [
    "%load_ext autoreload\n",
    "%autoreload 2\n",
    "%matplotlib inline"
   ]
  },
  {
   "cell_type": "code",
   "execution_count": 3,
   "metadata": {},
   "outputs": [],
   "source": [
    "from functools import reduce\n",
    "from operator import mul\n",
    "\n",
    "import numpy as np\n",
    "import pandas as pd\n",
    "import matplotlib.pyplot as plt\n",
    "\n",
    "from modular_splicing.eclip.data.dataset import get_eclip_dataset"
   ]
  },
  {
   "cell_type": "code",
   "execution_count": 4,
   "metadata": {},
   "outputs": [],
   "source": [
    "RCS = \"1, 2\", \"1\", \"2\""
   ]
  },
  {
   "cell_type": "code",
   "execution_count": 5,
   "metadata": {
    "scrolled": true
   },
   "outputs": [
    {
     "name": "stdout",
     "output_type": "stream",
     "text": [
      "1, 2 True\n",
      "1, 2 False\n",
      "1 True\n",
      "1 False\n",
      "2 True\n",
      "2 False\n"
     ]
    }
   ],
   "source": [
    "result = {}\n",
    "for rc in RCS:\n",
    "    for is_train in True, False:\n",
    "        print(rc, is_train)\n",
    "#         extract_binding_positions(is_train, pbar=tqdm.tqdm, replicate_category=rc)\n",
    "        result[rc, is_train] = get_eclip_dataset(is_train, replicate_category=rc)\n",
    "binding_by_motif = {}\n",
    "for rc in RCS:\n",
    "    binding_by_motif[rc] = np.zeros(120)\n",
    "    total_size = 0\n",
    "    for datum in result[rc, True]:\n",
    "        total_size += reduce(lambda x, y: x * y, datum[0].shape)\n",
    "        for i, v in enumerate(datum):\n",
    "            binding_by_motif[rc][i] += v.count_nonzero() / 2\n",
    "binding_by_motif[\"1 union 2\"] = binding_by_motif[\"1\"] + binding_by_motif[\"2\"]"
   ]
  },
  {
   "cell_type": "code",
   "execution_count": 8,
   "metadata": {},
   "outputs": [],
   "source": [
    "def plot(stat, *rcs):\n",
    "    max_value = max([max(stat[x]) for x in rcs])\n",
    "    for rc in rcs:\n",
    "        plt.hist(stat[rc], bins=np.linspace(0, max_value, 10), alpha=0.5, label=f\"Replicate {rc} [mean={np.mean(stat[rc]):.2e}]\")\n",
    "    plt.ylabel(\"Frequency\")"
   ]
  },
  {
   "cell_type": "code",
   "execution_count": 9,
   "metadata": {},
   "outputs": [
    {
     "data": {
      "text/html": [
       "<div>\n",
       "<style scoped>\n",
       "    .dataframe tbody tr th:only-of-type {\n",
       "        vertical-align: middle;\n",
       "    }\n",
       "\n",
       "    .dataframe tbody tr th {\n",
       "        vertical-align: top;\n",
       "    }\n",
       "\n",
       "    .dataframe thead th {\n",
       "        text-align: right;\n",
       "    }\n",
       "</style>\n",
       "<table border=\"1\" class=\"dataframe\">\n",
       "  <thead>\n",
       "    <tr style=\"text-align: right;\">\n",
       "      <th></th>\n",
       "      <th>Mean number of binding sites</th>\n",
       "      <th>Mean distance between binding sites</th>\n",
       "      <th>Mean sparsity [%]</th>\n",
       "      <th>Positional sparsity[%]</th>\n",
       "    </tr>\n",
       "  </thead>\n",
       "  <tbody>\n",
       "    <tr>\n",
       "      <th>1, 2</th>\n",
       "      <td>5188.958333</td>\n",
       "      <td>470342.955796</td>\n",
       "      <td>0.000213</td>\n",
       "      <td>0.025513</td>\n",
       "    </tr>\n",
       "    <tr>\n",
       "      <th>1</th>\n",
       "      <td>167945.262500</td>\n",
       "      <td>14532.056241</td>\n",
       "      <td>0.006881</td>\n",
       "      <td>0.825761</td>\n",
       "    </tr>\n",
       "    <tr>\n",
       "      <th>2</th>\n",
       "      <td>176653.500000</td>\n",
       "      <td>13815.690037</td>\n",
       "      <td>0.007238</td>\n",
       "      <td>0.868578</td>\n",
       "    </tr>\n",
       "    <tr>\n",
       "      <th>1 union 2</th>\n",
       "      <td>344598.762500</td>\n",
       "      <td>7082.410808</td>\n",
       "      <td>0.014119</td>\n",
       "      <td>1.694338</td>\n",
       "    </tr>\n",
       "  </tbody>\n",
       "</table>\n",
       "</div>"
      ],
      "text/plain": [
       "           Mean number of binding sites  Mean distance between binding sites  \\\n",
       "1, 2                        5188.958333                        470342.955796   \n",
       "1                         167945.262500                         14532.056241   \n",
       "2                         176653.500000                         13815.690037   \n",
       "1 union 2                 344598.762500                          7082.410808   \n",
       "\n",
       "           Mean sparsity [%]  Positional sparsity[%]  \n",
       "1, 2                0.000213                0.025513  \n",
       "1                   0.006881                0.825761  \n",
       "2                   0.007238                0.868578  \n",
       "1 union 2           0.014119                1.694338  "
      ]
     },
     "execution_count": 9,
     "metadata": {},
     "output_type": "execute_result"
    }
   ],
   "source": [
    "RCS_adj = RCS + (\"1 union 2\",)\n",
    "\n",
    "df = pd.DataFrame(\n",
    "    [\n",
    "        [np.mean(binding_by_motif[rc]) for rc in RCS_adj],\n",
    "        [total_size / np.mean(binding_by_motif[rc]) for rc in RCS_adj],\n",
    "        [np.mean(binding_by_motif[rc]) / total_size * 100 for rc in RCS_adj],\n",
    "    ], index=[\"Mean number of binding sites\", \"Mean distance between binding sites\", \"Mean sparsity [%]\"],\n",
    "    columns=RCS_adj,\n",
    ").T\n",
    "\n",
    "df[\"Positional sparsity[%]\"] = df[\"Mean sparsity [%]\"] * 120\n",
    "\n",
    "df"
   ]
  },
  {
   "cell_type": "code",
   "execution_count": 10,
   "metadata": {},
   "outputs": [
    {
     "data": {
      "text/plain": [
       "Text(0, 0.5, '# of motifs')"
      ]
     },
     "execution_count": 10,
     "metadata": {},
     "output_type": "execute_result"
    },
    {
     "data": {
      "image/png": "[encoded data removed]",
      "text/plain": [
       "<Figure size 1200x800 with 1 Axes>"
      ]
     },
     "metadata": {
      "needs_background": "light"
     },
     "output_type": "display_data"
    }
   ],
   "source": [
    "plt.figure(dpi=200)\n",
    "plt.title(\"eCLIP union dataset\")\n",
    "plt.hist(binding_by_motif[\"1 union 2\"] / total_size * 100)\n",
    "plt.xlabel(\"Motif sparsity [%]\")\n",
    "plt.ylabel(\"# of motifs\")"
   ]
  }
 ],
 "metadata": {
  "kernelspec": {
   "display_name": "Python 3",
   "language": "python",
   "name": "python3"
  },
  "language_info": {
   "codemirror_mode": {
    "name": "ipython",
    "version": 3
   },
   "file_extension": ".py",
   "mimetype": "text/x-python",
   "name": "python",
   "nbconvert_exporter": "python",
   "pygments_lexer": "ipython3",
   "version": "3.8.3"
  }
 },
 "nbformat": 4,
 "nbformat_minor": 4
}
