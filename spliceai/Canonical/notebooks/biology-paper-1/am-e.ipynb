{
 "cells": [
  {
   "cell_type": "code",
   "execution_count": 1,
   "metadata": {},
   "outputs": [],
   "source": [
    "import os\n",
    "\n",
    "os.chdir(\"../..\")\n",
    "os.environ[\"CUDA_VISIBLE_DEVICES\"] = \"5\""
   ]
  },
  {
   "cell_type": "code",
   "execution_count": 2,
   "metadata": {},
   "outputs": [],
   "source": [
    "import numpy as np\n",
    "import matplotlib.pyplot as plt\n",
    "import tqdm.notebook as tqdm\n",
    "\n",
    "from modular_splicing.models_for_testing.eclip_models import FM_eclip_18, AM_E\n",
    "from modular_splicing.evaluation.evaluate_model_series import evaluate_all_series, evaluate_individual_model"
   ]
  },
  {
   "cell_type": "code",
   "execution_count": 3,
   "metadata": {},
   "outputs": [],
   "source": [
    "%load_ext autoreload\n",
    "%autoreload 2\n",
    "%matplotlib inline"
   ]
  },
  {
   "cell_type": "code",
   "execution_count": 4,
   "metadata": {},
   "outputs": [],
   "source": [
    "normal_spec = dict(\n",
    "    type=\"H5Dataset\",\n",
    "    sl=5000,\n",
    "    datapoint_extractor_spec=dict(\n",
    "        type=\"BasicDatapointExtractor\",\n",
    "    ),\n",
    "    post_processor_spec=dict(type=\"IdentityPostProcessor\"),\n",
    ")"
   ]
  },
  {
   "cell_type": "code",
   "execution_count": 5,
   "metadata": {},
   "outputs": [],
   "source": [
    "res_fm_18 = evaluate_all_series(\n",
    "    (FM_eclip_18, normal_spec),\n",
    ")"
   ]
  },
  {
   "cell_type": "code",
   "execution_count": 6,
   "metadata": {},
   "outputs": [],
   "source": [
    "res_am_e = evaluate_individual_model(AM_E, normal_spec)"
   ]
  },
  {
   "cell_type": "code",
   "execution_count": 7,
   "metadata": {},
   "outputs": [
    {
     "name": "stdout",
     "output_type": "stream",
     "text": [
      "FM [18] 56.8%\n",
      "AM-E    50.3%\n"
     ]
    }
   ],
   "source": [
    "print(f\"FM [18] {res_fm_18['FM_eclip_18'][1]:.1%}\")\n",
    "print(f\"AM-E    {res_am_e:.1%}\")"
   ]
  }
 ],
 "metadata": {
  "interpreter": {
   "hash": "fed40f0349b30d6e31aa0a5dc034608400de4db87ccde1dc0a2d52f425f702da"
  },
  "kernelspec": {
   "display_name": "Python 3",
   "language": "python",
   "name": "python3"
  },
  "language_info": {
   "codemirror_mode": {
    "name": "ipython",
    "version": 3
   },
   "file_extension": ".py",
   "mimetype": "text/x-python",
   "name": "python",
   "nbconvert_exporter": "python",
   "pygments_lexer": "ipython3",
   "version": "3.8.5"
  }
 },
 "nbformat": 4,
 "nbformat_minor": 4
}
