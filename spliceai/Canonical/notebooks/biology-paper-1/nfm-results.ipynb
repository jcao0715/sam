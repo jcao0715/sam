{
 "cells": [
  {
   "cell_type": "code",
   "execution_count": 1,
   "metadata": {},
   "outputs": [],
   "source": [
    "import os\n",
    "\n",
    "os.chdir(\"../..\")\n",
    "os.environ[\"CUDA_VISIBLE_DEVICES\"] = \"7\""
   ]
  },
  {
   "cell_type": "code",
   "execution_count": 2,
   "metadata": {},
   "outputs": [],
   "source": [
    "import numpy as np\n",
    "import pandas as pd\n",
    "import matplotlib.pyplot as plt\n",
    "import tqdm.notebook as tqdm\n",
    "\n",
    "from modular_splicing.utils.construct import construct\n",
    "\n",
    "from modular_splicing.evaluation.evaluate_model_series import evaluate_all_series\n",
    "from modular_splicing.psams.motif_types import motifs_types\n",
    "\n",
    "from modular_splicing.models_for_testing.nfm_models import (\n",
    "    NFM_aat,\n",
    "    FM_aat,\n",
    "    AM_aat,\n",
    ")"
   ]
  },
  {
   "cell_type": "code",
   "execution_count": 3,
   "metadata": {},
   "outputs": [],
   "source": [
    "%load_ext autoreload\n",
    "%autoreload 2\n",
    "%matplotlib inline"
   ]
  },
  {
   "cell_type": "code",
   "execution_count": 4,
   "metadata": {},
   "outputs": [],
   "source": [
    "normal_spec = dict(\n",
    "    type=\"H5Dataset\",\n",
    "    sl=5000,\n",
    "    datapoint_extractor_spec=dict(\n",
    "        type=\"BasicDatapointExtractor\",\n",
    "    ),\n",
    "    post_processor_spec=dict(type=\"IdentityPostProcessor\"),\n",
    ")"
   ]
  },
  {
   "cell_type": "code",
   "execution_count": 5,
   "metadata": {},
   "outputs": [],
   "source": [
    "res = evaluate_all_series(\n",
    "    (FM_aat, normal_spec),\n",
    "    (AM_aat, normal_spec),\n",
    "    (NFM_aat, normal_spec),\n",
    ")"
   ]
  },
  {
   "cell_type": "code",
   "execution_count": 6,
   "metadata": {},
   "outputs": [
    {
     "data": {
      "text/plain": [
       "FM     65.3\n",
       "AM     78.6\n",
       "NFM    64.1\n",
       "dtype: float64"
      ]
     },
     "execution_count": 6,
     "metadata": {},
     "output_type": "execute_result"
    }
   ],
   "source": [
    "(pd.DataFrame(res).mean() * 100).round(1)"
   ]
  }
 ],
 "metadata": {
  "interpreter": {
   "hash": "fed40f0349b30d6e31aa0a5dc034608400de4db87ccde1dc0a2d52f425f702da"
  },
  "kernelspec": {
   "display_name": "Python 3",
   "language": "python",
   "name": "python3"
  },
  "language_info": {
   "codemirror_mode": {
    "name": "ipython",
    "version": 3
   },
   "file_extension": ".py",
   "mimetype": "text/x-python",
   "name": "python",
   "nbconvert_exporter": "python",
   "pygments_lexer": "ipython3",
   "version": "3.8.3"
  }
 },
 "nbformat": 4,
 "nbformat_minor": 4
}
