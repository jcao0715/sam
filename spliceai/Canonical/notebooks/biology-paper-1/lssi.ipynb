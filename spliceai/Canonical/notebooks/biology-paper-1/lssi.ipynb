{
 "cells": [
  {
   "cell_type": "code",
   "execution_count": 1,
   "metadata": {},
   "outputs": [],
   "source": [
    "import os\n",
    "\n",
    "os.chdir(\"../..\")"
   ]
  },
  {
   "cell_type": "code",
   "execution_count": 2,
   "metadata": {},
   "outputs": [],
   "source": [
    "from modular_splicing.models_for_testing.list import LSSI\n",
    "from modular_splicing.lssi.analyze import lssi_coverage_stats\n",
    "from modular_splicing.lssi.analyze import lssi_and_maxent_accuracies"
   ]
  },
  {
   "cell_type": "code",
   "execution_count": 3,
   "metadata": {},
   "outputs": [],
   "source": [
    "%load_ext autoreload\n",
    "%autoreload 2\n",
    "%matplotlib inline"
   ]
  },
  {
   "cell_type": "code",
   "execution_count": 4,
   "metadata": {},
   "outputs": [],
   "source": [
    "splice_sites_covered, bases_covered = lssi_coverage_stats()"
   ]
  },
  {
   "cell_type": "code",
   "execution_count": 5,
   "metadata": {},
   "outputs": [
    {
     "name": "stdout",
     "output_type": "stream",
     "text": [
      "True splicepoints covered: 3': 98.88%, 5': 99.10%\n"
     ]
    }
   ],
   "source": [
    "print(\n",
    "    f\"True splicepoints covered: 3': {splice_sites_covered[3]:.2%},\"\n",
    "    f\" 5': {splice_sites_covered[5]:.2%}\"\n",
    ")"
   ]
  },
  {
   "cell_type": "code",
   "execution_count": 6,
   "metadata": {},
   "outputs": [
    {
     "name": "stdout",
     "output_type": "stream",
     "text": [
      "Positions covered: 3': 2.00%, 5': 1.41%\n"
     ]
    }
   ],
   "source": [
    "print(f\"Positions covered: 3': {bases_covered[3]:.2%}, 5': {bases_covered[5]:.2%}\")"
   ]
  },
  {
   "cell_type": "code",
   "execution_count": 7,
   "metadata": {},
   "outputs": [
    {
     "data": {
      "text/plain": [
       "{'lssi': ['23.82%', '26.73%'], 'maxent': ['18.45%', '24.70%']}"
      ]
     },
     "execution_count": 7,
     "metadata": {},
     "output_type": "execute_result"
    }
   ],
   "source": [
    "{k : [f\"{v:.2%}\" for v in vs] for k, vs in lssi_and_maxent_accuracies().items()}"
   ]
  }
 ],
 "metadata": {
  "kernelspec": {
   "display_name": "Python 3",
   "language": "python",
   "name": "python3"
  },
  "language_info": {
   "codemirror_mode": {
    "name": "ipython",
    "version": 3
   },
   "file_extension": ".py",
   "mimetype": "text/x-python",
   "name": "python",
   "nbconvert_exporter": "python",
   "pygments_lexer": "ipython3",
   "version": "3.8.5"
  }
 },
 "nbformat": 4,
 "nbformat_minor": 4
}
