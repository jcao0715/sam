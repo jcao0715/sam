{
 "cells": [
  {
   "cell_type": "code",
   "execution_count": 1,
   "metadata": {},
   "outputs": [],
   "source": [
    "import os\n",
    "\n",
    "os.chdir(\"../..\")\n",
    "os.environ[\"CUDA_VISIBLE_DEVICES\"] = \"0\""
   ]
  },
  {
   "cell_type": "code",
   "execution_count": 2,
   "metadata": {},
   "outputs": [],
   "source": [
    "from types import SimpleNamespace\n",
    "\n",
    "import torch\n",
    "import numpy as np\n",
    "import matplotlib as mpl\n",
    "import matplotlib.pyplot as plt\n",
    "import tqdm.notebook as tqdm\n",
    "\n",
    "from modular_splicing.models_for_testing.main_models import AM, FM_full\n",
    "from modular_splicing.models.modules.lssi_in_model import BothLSSIModelsJustSplicepoints\n",
    "\n",
    "from modular_splicing.example_figure.find_example_exon import find_both_exons\n",
    "from modular_splicing.example_figure.renderer import main_example_figure\n",
    "from modular_splicing.example_figure.produce_images import produce_images\n",
    "\n",
    "from modular_splicing.utils.io import load_model"
   ]
  },
  {
   "cell_type": "code",
   "execution_count": 3,
   "metadata": {},
   "outputs": [],
   "source": [
    "%load_ext autoreload\n",
    "%autoreload 2\n",
    "%matplotlib inline"
   ]
  },
  {
   "cell_type": "code",
   "execution_count": 4,
   "metadata": {},
   "outputs": [],
   "source": [
    "human_seeds = (1, 2, 3, 4, 5)"
   ]
  },
  {
   "cell_type": "code",
   "execution_count": 5,
   "metadata": {},
   "outputs": [],
   "source": [
    "lssi = BothLSSIModelsJustSplicepoints(AM.non_binarized_model(1).model.splicepoint_model, cl=400)"
   ]
  },
  {
   "cell_type": "code",
   "execution_count": 6,
   "metadata": {
    "scrolled": false
   },
   "outputs": [
    {
     "data": {
      "application/vnd.jupyter.widget-view+json": {
       "model_id": "b01d3a3c31514018843bbeb6db220193",
       "version_major": 2,
       "version_minor": 0
      },
      "text/plain": [
       "HBox(children=(HTML(value='Alternates'), FloatProgress(value=0.0, max=4.0), HTML(value='')))"
      ]
     },
     "metadata": {},
     "output_type": "display_data"
    },
    {
     "name": "stdout",
     "output_type": "stream",
     "text": [
      "\n"
     ]
    }
   ],
   "source": [
    "produce_images(\n",
    "    \"human\",\n",
    "    lssi,\n",
    "    fms=[FM_full.non_binarized_model(s).model for s in human_seeds],\n",
    "    ams=[AM.non_binarized_model(s).model for s in human_seeds],\n",
    "    require_tra2a=True,\n",
    ")"
   ]
  },
  {
   "cell_type": "code",
   "execution_count": 7,
   "metadata": {
    "scrolled": true
   },
   "outputs": [
    {
     "data": {
      "application/vnd.jupyter.widget-view+json": {
       "model_id": "44d4efdc2a684d0abeda6d17b2e41763",
       "version_major": 2,
       "version_minor": 0
      },
      "text/plain": [
       "HBox(children=(HTML(value='Alternates'), FloatProgress(value=0.0, max=4.0), HTML(value='')))"
      ]
     },
     "metadata": {},
     "output_type": "display_data"
    },
    {
     "name": "stdout",
     "output_type": "stream",
     "text": [
      "\n"
     ]
    }
   ],
   "source": [
    "produce_images(\n",
    "    \"human\",\n",
    "    lssi,\n",
    "    fms=[FM_full.non_binarized_model(s).model for s in human_seeds],\n",
    "    ams=[AM.non_binarized_model(s).model for s in human_seeds],\n",
    "    require_tra2a=False,\n",
    ")"
   ]
  },
  {
   "cell_type": "code",
   "execution_count": 8,
   "metadata": {},
   "outputs": [
    {
     "data": {
      "application/vnd.jupyter.widget-view+json": {
       "model_id": "dd78423142f84d4ea7f50e15a941ac08",
       "version_major": 2,
       "version_minor": 0
      },
      "text/plain": [
       "HBox(children=(HTML(value='Alternates'), FloatProgress(value=1.0, bar_style='info', layout=Layout(width='20px'…"
      ]
     },
     "metadata": {},
     "output_type": "display_data"
    },
    {
     "name": "stdout",
     "output_type": "stream",
     "text": [
      "\n"
     ]
    }
   ],
   "source": [
    "am_fly, fm_fly = [\n",
    "    load_model(f\"../data/drosophila_model_and_data/{name}_fly\")[1].eval()\n",
    "    for name in [\"AM\", \"FM\"]\n",
    "]\n",
    "# produce_images(\"fly\", lssi, fms=[fm_fly], ams=[am_fly], range_multiplier=0.3, require_tra2a=True)\n",
    "produce_images(\"fly\", lssi, fms=[fm_fly], ams=[am_fly], range_multiplier=0.3, require_tra2a=False)"
   ]
  },
  {
   "cell_type": "code",
   "execution_count": 9,
   "metadata": {},
   "outputs": [
    {
     "data": {
      "application/vnd.jupyter.widget-view+json": {
       "model_id": "b5e653cb759d495c9355eaa14a5ed6be",
       "version_major": 2,
       "version_minor": 0
      },
      "text/plain": [
       "HBox(children=(HTML(value='Alternates'), FloatProgress(value=1.0, bar_style='info', layout=Layout(width='20px'…"
      ]
     },
     "metadata": {},
     "output_type": "display_data"
    },
    {
     "name": "stdout",
     "output_type": "stream",
     "text": [
      "\n"
     ]
    }
   ],
   "source": [
    "am_mouse, fm_mouse = [\n",
    "    load_model(f\"../data/mouse_model_and_data/{name.lower()}_mice\")[1].eval()\n",
    "    for name in [\"AM\", \"FM\"]\n",
    "]\n",
    "# produce_images(\"mouse\", lssi, fms=[fm_mouse], ams=[am_mouse], require_tra2a=True)\n",
    "produce_images(\"mouse\", lssi, fms=[fm_mouse], ams=[am_mouse], require_tra2a=False)"
   ]
  },
  {
   "cell_type": "code",
   "execution_count": null,
   "metadata": {},
   "outputs": [],
   "source": []
  }
 ],
 "metadata": {
  "interpreter": {
   "hash": "fed40f0349b30d6e31aa0a5dc034608400de4db87ccde1dc0a2d52f425f702da"
  },
  "kernelspec": {
   "display_name": "Python 3",
   "language": "python",
   "name": "python3"
  },
  "language_info": {
   "codemirror_mode": {
    "name": "ipython",
    "version": 3
   },
   "file_extension": ".py",
   "mimetype": "text/x-python",
   "name": "python",
   "nbconvert_exporter": "python",
   "pygments_lexer": "ipython3",
   "version": "3.8.5"
  }
 },
 "nbformat": 4,
 "nbformat_minor": 4
}
