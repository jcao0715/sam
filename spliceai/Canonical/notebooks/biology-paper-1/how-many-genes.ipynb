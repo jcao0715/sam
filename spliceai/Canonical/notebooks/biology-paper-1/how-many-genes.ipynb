{
 "cells": [
  {
   "cell_type": "code",
   "execution_count": 1,
   "metadata": {},
   "outputs": [],
   "source": [
    "import os\n",
    "\n",
    "os.chdir(\"../..\")\n",
    "os.environ[\"CUDA_VISIBLE_DEVICES\"] = \"7\""
   ]
  },
  {
   "cell_type": "code",
   "execution_count": 2,
   "metadata": {},
   "outputs": [],
   "source": [
    "import numpy as np\n",
    "import matplotlib.pyplot as plt\n",
    "import tqdm.notebook as tqdm\n",
    "\n",
    "from modular_splicing.evaluation.standard_e2e_eval import test_data\n",
    "from modular_splicing.dataset.dataset_aligner import DatasetAligner"
   ]
  },
  {
   "cell_type": "code",
   "execution_count": 3,
   "metadata": {},
   "outputs": [],
   "source": [
    "%load_ext autoreload\n",
    "%autoreload 2\n",
    "%matplotlib inline"
   ]
  },
  {
   "cell_type": "code",
   "execution_count": 4,
   "metadata": {},
   "outputs": [],
   "source": [
    "data_spec = dict(\n",
    "    type=\"H5Dataset\",\n",
    "    cl_max=10_000,\n",
    "    sl=None,\n",
    "    datapoint_extractor_spec=dict(\n",
    "        type=\"BasicDatapointExtractor\",\n",
    "        rewriters=[\n",
    "            dict(\n",
    "                type=\"AdditionalChannelDataRewriter\",\n",
    "                out_channel=[\"inputs\", \"motifs\"],\n",
    "                data_provider_spec=dict(type=\"index_tracking\"),\n",
    "            ),\n",
    "        ],\n",
    "    ),\n",
    "    post_processor_spec=dict(\n",
    "        type=\"FlattenerPostProcessor\",\n",
    "        indices=[(\"inputs\", \"x\"), (\"outputs\", \"y\"), (\"inputs\", \"motifs\")],\n",
    "    ),\n",
    ")"
   ]
  },
  {
   "cell_type": "code",
   "execution_count": 5,
   "metadata": {},
   "outputs": [],
   "source": [
    "data = test_data(data_spec, 400)"
   ]
  },
  {
   "cell_type": "code",
   "execution_count": 6,
   "metadata": {},
   "outputs": [
    {
     "data": {
      "application/vnd.jupyter.widget-view+json": {
       "model_id": "5aa67c11fd7444c8845de30da6430cbf",
       "version_major": 2,
       "version_minor": 0
      },
      "text/plain": [
       "  0%|          | 0/16505 [00:00<?, ?it/s]"
      ]
     },
     "metadata": {},
     "output_type": "display_data"
    }
   ],
   "source": [
    "idxs = [idx[0] for _, _, idx in tqdm.tqdm(data)]"
   ]
  },
  {
   "cell_type": "code",
   "execution_count": 7,
   "metadata": {},
   "outputs": [],
   "source": [
    "aligner = DatasetAligner(\"dataset_test_0.h5\", \"datafile_test_0.h5\", 5000)"
   ]
  },
  {
   "cell_type": "code",
   "execution_count": 8,
   "metadata": {},
   "outputs": [],
   "source": [
    "genes = {aligner.get_gene_idx(*i)[0] for i in idxs}"
   ]
  },
  {
   "cell_type": "code",
   "execution_count": 9,
   "metadata": {},
   "outputs": [
    {
     "name": "stdout",
     "output_type": "stream",
     "text": [
      "37.14Mnt across 730 genes\n"
     ]
    }
   ],
   "source": [
    "print(f\"{len(idxs) * 5000 / 1e6}Mnt across {len(genes)} genes\")"
   ]
  }
 ],
 "metadata": {
  "kernelspec": {
   "display_name": "Python 3 (ipykernel)",
   "language": "python",
   "name": "python3"
  },
  "language_info": {
   "codemirror_mode": {
    "name": "ipython",
    "version": 3
   },
   "file_extension": ".py",
   "mimetype": "text/x-python",
   "name": "python",
   "nbconvert_exporter": "python",
   "pygments_lexer": "ipython3",
   "version": "3.9.13"
  },
  "vscode": {
   "interpreter": {
    "hash": "31f2aee4e71d21fbe5cf8b01ff0e069b9275f58929596ceb00d14d90e3e16cd6"
   }
  }
 },
 "nbformat": 4,
 "nbformat_minor": 4
}
