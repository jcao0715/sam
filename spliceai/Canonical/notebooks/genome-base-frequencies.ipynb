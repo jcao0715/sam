{
 "cells": [
  {
   "cell_type": "code",
   "execution_count": 1,
   "metadata": {},
   "outputs": [],
   "source": [
    "import os\n",
    "\n",
    "os.chdir(\"..\")\n",
    "os.environ[\"CUDA_VISIBLE_DEVICES\"] = \"3\""
   ]
  },
  {
   "cell_type": "code",
   "execution_count": 2,
   "metadata": {},
   "outputs": [],
   "source": [
    "%load_ext autoreload\n",
    "%autoreload 2\n",
    "%matplotlib inline"
   ]
  },
  {
   "cell_type": "code",
   "execution_count": 3,
   "metadata": {},
   "outputs": [],
   "source": [
    "import numpy as np\n",
    "import tqdm.auto as tqdm\n",
    "\n",
    "from modular_splicing.dataset.basic_dataset import basic_dataset"
   ]
  },
  {
   "cell_type": "code",
   "execution_count": 4,
   "metadata": {},
   "outputs": [],
   "source": [
    "barcode_length = 4"
   ]
  },
  {
   "cell_type": "code",
   "execution_count": 5,
   "metadata": {},
   "outputs": [
    {
     "data": {
      "application/vnd.jupyter.widget-view+json": {
       "model_id": "bc6fda37dda54815a05c13e1b970ebe2",
       "version_major": 2,
       "version_minor": 0
      },
      "text/plain": [
       "HBox(children=(HTML(value='dataset_test_0.h5'), FloatProgress(value=0.0, max=16505.0), HTML(value='')))"
      ]
     },
     "metadata": {},
     "output_type": "display_data"
    },
    {
     "name": "stdout",
     "output_type": "stream",
     "text": [
      "\n"
     ]
    },
    {
     "data": {
      "application/vnd.jupyter.widget-view+json": {
       "model_id": "680be0abb50048608ef1bf0a9c29071c",
       "version_major": 2,
       "version_minor": 0
      },
      "text/plain": [
       "HBox(children=(HTML(value='dataset_train_all.h5'), FloatProgress(value=0.0, max=162706.0), HTML(value='')))"
      ]
     },
     "metadata": {},
     "output_type": "display_data"
    },
    {
     "name": "stdout",
     "output_type": "stream",
     "text": [
      "\n"
     ]
    }
   ],
   "source": [
    "marginal_dist = np.zeros((4 ** barcode_length, 4), np.int)\n",
    "for path in [\"dataset_test_0.h5\", \"dataset_train_all.h5\"]:\n",
    "    dset = basic_dataset(\n",
    "        path=path,\n",
    "        cl=barcode_length * 2,\n",
    "        cl_max=10_000,\n",
    "        sl=5000,\n",
    "    )\n",
    "    for x, _ in tqdm.tqdm(dset, desc=path):\n",
    "        x = x.astype(np.int)\n",
    "        barcode_bases, starting_points = np.arange(barcode_length), np.arange(len(x) - 2 * barcode_length)\n",
    "        barcode_bases, starting_points = np.meshgrid(barcode_bases, starting_points)\n",
    "        x_barcode = x[barcode_bases + starting_points]\n",
    "        x_mask = x_barcode.sum(-1).all(-1)\n",
    "        x_barcode = x_barcode.argmax(-1)\n",
    "        x_barcode_codes = x_barcode @ (4 ** np.arange(barcode_length))\n",
    "        np.add.at(\n",
    "            marginal_dist,\n",
    "            (x_barcode_codes[x_mask], x[barcode_length:x.shape[0]-barcode_length][x_mask].argmax(-1)),\n",
    "            1\n",
    "        )"
   ]
  },
  {
   "cell_type": "code",
   "execution_count": 6,
   "metadata": {},
   "outputs": [],
   "source": [
    "barcode_frequencies = marginal_dist.sum(1)\n",
    "relative_freqs = marginal_dist / barcode_frequencies[:,None]"
   ]
  },
  {
   "cell_type": "code",
   "execution_count": 7,
   "metadata": {},
   "outputs": [],
   "source": [
    "relative_barcode_freqs = barcode_frequencies / barcode_frequencies.sum()"
   ]
  },
  {
   "cell_type": "code",
   "execution_count": 8,
   "metadata": {},
   "outputs": [],
   "source": [
    "entropy = (relative_barcode_freqs * ((-relative_freqs * np.log(relative_freqs)) / np.log(2)).sum(1)).sum()"
   ]
  },
  {
   "cell_type": "code",
   "execution_count": 9,
   "metadata": {},
   "outputs": [
    {
     "data": {
      "text/plain": [
       "1.9115757921758971"
      ]
     },
     "execution_count": 9,
     "metadata": {},
     "output_type": "execute_result"
    }
   ],
   "source": [
    "entropy"
   ]
  },
  {
   "cell_type": "code",
   "execution_count": null,
   "metadata": {},
   "outputs": [],
   "source": []
  }
 ],
 "metadata": {
  "kernelspec": {
   "display_name": "Python 3",
   "language": "python",
   "name": "python3"
  },
  "language_info": {
   "codemirror_mode": {
    "name": "ipython",
    "version": 3
   },
   "file_extension": ".py",
   "mimetype": "text/x-python",
   "name": "python",
   "nbconvert_exporter": "python",
   "pygments_lexer": "ipython3",
   "version": "3.8.3"
  }
 },
 "nbformat": 4,
 "nbformat_minor": 4
}
