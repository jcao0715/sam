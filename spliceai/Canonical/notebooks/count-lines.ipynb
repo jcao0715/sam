{
 "cells": [
  {
   "cell_type": "code",
   "execution_count": 1,
   "metadata": {},
   "outputs": [],
   "source": [
    "import os\n",
    "import json\n",
    "import pandas as pd"
   ]
  },
  {
   "cell_type": "code",
   "execution_count": 2,
   "metadata": {},
   "outputs": [],
   "source": [
    "def linecount(f):\n",
    "    with open(f) as f:\n",
    "        return len(list(f))\n",
    "\n",
    "def cellcount(f):\n",
    "    with open(f) as f:\n",
    "        x = json.load(f)\n",
    "        return sum(len(cell[\"source\"]) for cell in x[\"cells\"])"
   ]
  },
  {
   "cell_type": "code",
   "execution_count": 3,
   "metadata": {},
   "outputs": [],
   "source": [
    "filepaths = []\n",
    "for dirpath, dirnames, filenames in os.walk(\"..\"):\n",
    "    filepaths += [os.path.join(dirpath, f) for f in filenames]\n",
    "non_experiment_py = [\n",
    "    x\n",
    "    for x in filepaths\n",
    "    if x.endswith(\".py\")\n",
    "    and not x.startswith(\"../experiments\")\n",
    "    and not x.startswith(\"../modular_splicing/\")\n",
    "    and not x.startswith(\"../shelved/\")\n",
    "    and not x.startswith(\"../working/\")\n",
    "    and not x.startswith(\"../tests/\")\n",
    "    and not x.startswith(\"../scripts/\")\n",
    "]\n",
    "notebooks = [\n",
    "    x\n",
    "    for x in filepaths\n",
    "    if x.endswith(\".ipynb\")\n",
    "    and \"/.ipynb_checkpoints/\" not in x\n",
    "    and not x.startswith(\"../notebooks/biology-paper-1/\")\n",
    "    and not x.startswith(\"../notebooks/shelved/\")\n",
    "    and not x.startswith(\"../notebooks/working/\")\n",
    "]"
   ]
  },
  {
   "cell_type": "code",
   "execution_count": 4,
   "metadata": {},
   "outputs": [
    {
     "name": "stdout",
     "output_type": "stream",
     "text": [
      "Number python files: 1\n",
      "Lines of python: 94\n",
      "Number ipython notebooks: 30\n",
      "Lines of ipython: 1983\n"
     ]
    }
   ],
   "source": [
    "print(\"Number python files:\", len(non_experiment_py))\n",
    "print(\"Lines of python:\", sum(linecount(f) for f in non_experiment_py))\n",
    "print(\"Number ipython notebooks:\", len(notebooks))\n",
    "print(\"Lines of ipython:\", sum(cellcount(f) for f in notebooks))"
   ]
  },
  {
   "cell_type": "code",
   "execution_count": 5,
   "metadata": {},
   "outputs": [
    {
     "data": {
      "text/html": [
       "<div>\n",
       "<style scoped>\n",
       "    .dataframe tbody tr th:only-of-type {\n",
       "        vertical-align: middle;\n",
       "    }\n",
       "\n",
       "    .dataframe tbody tr th {\n",
       "        vertical-align: top;\n",
       "    }\n",
       "\n",
       "    .dataframe thead th {\n",
       "        text-align: right;\n",
       "    }\n",
       "</style>\n",
       "<table border=\"1\" class=\"dataframe\">\n",
       "  <thead>\n",
       "    <tr style=\"text-align: right;\">\n",
       "      <th></th>\n",
       "      <th>count</th>\n",
       "    </tr>\n",
       "  </thead>\n",
       "  <tbody>\n",
       "    <tr>\n",
       "      <th>../utils.py</th>\n",
       "      <td>94</td>\n",
       "    </tr>\n",
       "  </tbody>\n",
       "</table>\n",
       "</div>"
      ],
      "text/plain": [
       "             count\n",
       "../utils.py     94"
      ]
     },
     "execution_count": 5,
     "metadata": {},
     "output_type": "execute_result"
    }
   ],
   "source": [
    "pd.DataFrame({f : linecount(f) for f in non_experiment_py}, index=[\"count\"]).T.sort_values(\"count\")[::-1][:20]"
   ]
  }
 ],
 "metadata": {
  "kernelspec": {
   "display_name": "Python 3",
   "language": "python",
   "name": "python3"
  },
  "language_info": {
   "codemirror_mode": {
    "name": "ipython",
    "version": 3
   },
   "file_extension": ".py",
   "mimetype": "text/x-python",
   "name": "python",
   "nbconvert_exporter": "python",
   "pygments_lexer": "ipython3",
   "version": "3.8.5"
  }
 },
 "nbformat": 4,
 "nbformat_minor": 4
}
