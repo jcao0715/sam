{
 "cells": [
  {
   "cell_type": "code",
   "execution_count": 1,
   "metadata": {},
   "outputs": [],
   "source": [
    "import os\n",
    "\n",
    "os.chdir(\"../..\")\n",
    "os.environ[\"CUDA_VISIBLE_DEVICES\"] = \"6\""
   ]
  },
  {
   "cell_type": "code",
   "execution_count": 2,
   "metadata": {},
   "outputs": [],
   "source": [
    "%load_ext autoreload\n",
    "%autoreload 2\n",
    "%matplotlib inline"
   ]
  },
  {
   "cell_type": "code",
   "execution_count": 3,
   "metadata": {},
   "outputs": [],
   "source": [
    "from collections import defaultdict\n",
    "\n",
    "import torch\n",
    "import numpy as np\n",
    "import pandas as pd\n",
    "import matplotlib.pyplot as plt\n",
    "import tqdm.notebook as tqdm\n",
    "\n",
    "from modular_splicing.motif_names import get_motif_names\n",
    "from modular_splicing.eclip.test_motifs.baseline import fm_baseline_nonbinarized\n",
    "from modular_splicing.fit_rbns.load_rbns_neural import load_rbns_models_for_evaluation\n",
    "from modular_splicing.fit_rbns.test_on_rbns import RBNSEvaluator\n",
    "from modular_splicing.utils.plots.results_by_model_group import plot_by_model_group\n",
    "from modular_splicing.models_for_testing.list import AM, FM"
   ]
  },
  {
   "cell_type": "code",
   "execution_count": 4,
   "metadata": {},
   "outputs": [],
   "source": [
    "amount = 1000"
   ]
  },
  {
   "cell_type": "code",
   "execution_count": 5,
   "metadata": {},
   "outputs": [],
   "source": [
    "fm_model_non_binarized = {}\n",
    "am_models = {}\n",
    "rbnsp_names = {}"
   ]
  },
  {
   "cell_type": "code",
   "execution_count": 6,
   "metadata": {},
   "outputs": [],
   "source": [
    "def trained_e2e():\n",
    "    ams = AM.binarized_models()\n",
    "    fm_model_full = FM.non_binarized_model(1, density_override=0.75).model\n",
    "    rbnsp_names_full = get_motif_names(\"rbns\")\n",
    "    fm_model_non_binarized.update({mod.name: fm_model_full for mod in ams})\n",
    "    am_models.update({mod.name: mod.model for mod in ams})\n",
    "    rbnsp_names.update({mod.name: rbnsp_names_full for mod in ams})"
   ]
  },
  {
   "cell_type": "code",
   "execution_count": 7,
   "metadata": {},
   "outputs": [],
   "source": [
    "def add_models_generic(motifs_source, models):\n",
    "    motif_names = get_motif_names(motifs_source)\n",
    "    fm_model = fm_baseline_nonbinarized(motifs_source)\n",
    "    fm_model_non_binarized.update({name: fm_model for name in models})\n",
    "    am_models.update(models)\n",
    "    rbnsp_names.update({name: motif_names for name in models})"
   ]
  },
  {
   "cell_type": "code",
   "execution_count": 8,
   "metadata": {},
   "outputs": [],
   "source": [
    "def trained_on_rbns():\n",
    "    loaded = load_rbns_models_for_evaluation(just_nfm=False)\n",
    "    add_models_generic(\"rbns\", models=loaded)"
   ]
  },
  {
   "cell_type": "code",
   "execution_count": 9,
   "metadata": {
    "scrolled": false
   },
   "outputs": [],
   "source": [
    "trained_e2e()\n",
    "trained_on_rbns()"
   ]
  },
  {
   "cell_type": "code",
   "execution_count": 10,
   "metadata": {},
   "outputs": [],
   "source": [
    "evaluators = {\n",
    "    is_test: RBNSEvaluator(\n",
    "        fm_model_non_binarized=fm_model_non_binarized,\n",
    "        am_models=am_models,\n",
    "        genome_calibration_amount=800,\n",
    "        rbnsp_names=rbnsp_names,\n",
    "        is_test=is_test,\n",
    "    )\n",
    "    for is_test in [True]\n",
    "}"
   ]
  },
  {
   "cell_type": "code",
   "execution_count": 11,
   "metadata": {},
   "outputs": [],
   "source": [
    "all_model_names = list(am_models)"
   ]
  },
  {
   "cell_type": "code",
   "execution_count": 12,
   "metadata": {
    "scrolled": true
   },
   "outputs": [
    {
     "data": {
      "application/vnd.jupyter.widget-view+json": {
       "model_id": "a6e00a7a833740128c490e6b4cdec845",
       "version_major": 2,
       "version_minor": 0
      },
      "text/plain": [
       "HBox(children=(HTML(value=''), FloatProgress(value=0.0, max=11.0), HTML(value='')))"
      ]
     },
     "metadata": {},
     "output_type": "display_data"
    },
    {
     "name": "stdout",
     "output_type": "stream",
     "text": [
      "\n"
     ]
    }
   ],
   "source": [
    "results_each = {\n",
    "    k: {\n",
    "        model_name: evaluators[k].calculate_statistics_for_all_motifs(model_name)\n",
    "        for model_name in tqdm.tqdm(all_model_names)\n",
    "    }\n",
    "    for k in evaluators\n",
    "}"
   ]
  },
  {
   "cell_type": "code",
   "execution_count": 13,
   "metadata": {},
   "outputs": [],
   "source": [
    "summarys_each = {\n",
    "    k: pd.DataFrame(\n",
    "        {name: pd.DataFrame(results_each[k][name]).T.mean() for name in all_model_names}\n",
    "    ).T\n",
    "    for k in results_each\n",
    "}"
   ]
  },
  {
   "cell_type": "code",
   "execution_count": 14,
   "metadata": {},
   "outputs": [],
   "source": [
    "outs_each = {\n",
    "    k: pd.DataFrame(\n",
    "        {\n",
    "            **{\n",
    "                c: summarys_each[k][\"acc_am\"] - summarys_each[k][f\"acc_fm_{c}\"]\n",
    "                for c in (\"to_rbns\", \"to_genome\")\n",
    "            },\n",
    "            \"acc\": summarys_each[k][\"acc_am\"],\n",
    "        }\n",
    "    ).sort_index()\n",
    "    for k in summarys_each\n",
    "}"
   ]
  },
  {
   "cell_type": "code",
   "execution_count": 15,
   "metadata": {},
   "outputs": [],
   "source": [
    "summarys_each[True].to_csv(\"output-csvs/evaluate-on-rbns/evaluate-on-rbns-results.csv\")\n",
    "outs_each[True].to_csv(\"output-csvs/evaluate-on-rbns/evaluate-on-rbns-results-topline.csv\")"
   ]
  },
  {
   "cell_type": "code",
   "execution_count": 16,
   "metadata": {},
   "outputs": [],
   "source": [
    "t = outs_each[True]\n",
    "t = t.loc[\n",
    "    [\n",
    "        x\n",
    "        for x in t.index\n",
    "#         if any(x.startswith(pre + \"_\") for pre in (\"AM\", \"chenxi\", \"rbnsn_21x2\", \"NFM\"))\n",
    "    ]\n",
    "]\n",
    "prefix_rewrites = {\n",
    "    \"AM\": \"AM [e2e]\",\n",
    "    \"chenxi_sbm_w11\": \"NM 11\",\n",
    "    \"chenxi_sbm_w14_updated\": \"NM 14\",\n",
    "    \"rbnsn_21x2\": \"AM [on rbns]\",\n",
    "}\n",
    "\n",
    "result = []\n",
    "for x in t.index:\n",
    "    for pre in prefix_rewrites:\n",
    "        if x.startswith(pre):\n",
    "            x = x.replace(pre, prefix_rewrites[pre])\n",
    "    result.append(x)\n",
    "t.index = result\n",
    "t = t.sort_index()"
   ]
  },
  {
   "cell_type": "code",
   "execution_count": 17,
   "metadata": {},
   "outputs": [],
   "source": [
    "t.to_csv(\"output-csvs/evaluate-on-rbns/evaluate-on-rbns-results-topline-for-paper.csv\")"
   ]
  },
  {
   "cell_type": "code",
   "execution_count": 18,
   "metadata": {},
   "outputs": [],
   "source": [
    "def print_range_and_mean(vals):\n",
    "    improvements_am_e2e = np.array(vals)\n",
    "    print(f\"{improvements_am_e2e.min():.2%}-{improvements_am_e2e.max():.2%}, mean={improvements_am_e2e.mean():.2%}\")"
   ]
  },
  {
   "cell_type": "code",
   "execution_count": 19,
   "metadata": {},
   "outputs": [
    {
     "name": "stdout",
     "output_type": "stream",
     "text": [
      "-0.02%-0.25%, mean=0.11%\n"
     ]
    }
   ],
   "source": [
    "print_range_and_mean([t.loc[x].to_rbns for x in t.index if \"e2e\" in x])"
   ]
  },
  {
   "cell_type": "code",
   "execution_count": 20,
   "metadata": {},
   "outputs": [
    {
     "name": "stdout",
     "output_type": "stream",
     "text": [
      "1.46%-2.20%, mean=1.76%\n"
     ]
    }
   ],
   "source": [
    "print_range_and_mean([t.loc[x].to_rbns for x in t.index if \"NFM\" in x])"
   ]
  },
  {
   "cell_type": "code",
   "execution_count": 21,
   "metadata": {},
   "outputs": [
    {
     "data": {
      "text/plain": [
       "AM [e2e]_1    0.253797\n",
       "AM [e2e]_2    0.017089\n",
       "AM [e2e]_3    0.100000\n",
       "AM [e2e]_4    0.191139\n",
       "AM [e2e]_5   -0.018987\n",
       "NFM_1         1.673418\n",
       "NFM_2         1.458228\n",
       "NFM_3         1.699367\n",
       "NFM_4         2.201899\n",
       "NM 11_1      -0.015823\n",
       "NM 14_1       0.329747\n",
       "Name: to_rbns, dtype: float64"
      ]
     },
     "execution_count": 21,
     "metadata": {},
     "output_type": "execute_result"
    }
   ],
   "source": [
    "t.to_rbns * 100"
   ]
  },
  {
   "cell_type": "code",
   "execution_count": 22,
   "metadata": {},
   "outputs": [
    {
     "data": {
      "image/png": "[encoded data removed]",
      "text/plain": [
       "<Figure size 432x288 with 1 Axes>"
      ]
     },
     "metadata": {
      "needs_background": "light"
     },
     "output_type": "display_data"
    }
   ],
   "source": [
    "plot_by_model_group(\n",
    "    np.array(t.to_rbns) * 100,\n",
    "    list(t.to_rbns.index),\n",
    "    f\"Versus FM calibrated to equal sparsity\",\n",
    "    \"Accuracy change on RBNS [%]\",\n",
    "    ax=plt.gca(),\n",
    "    colors={\n",
    "        \"AM [e2e]\": \"red\",\n",
    "        \"NFM\": \"orange\",\n",
    "        \"NM 11\": \"blue\",\n",
    "        \"NM 14\": \"green\",\n",
    "    },\n",
    ")"
   ]
  }
 ],
 "metadata": {
  "kernelspec": {
   "display_name": "Python 3",
   "language": "python",
   "name": "python3"
  },
  "language_info": {
   "codemirror_mode": {
    "name": "ipython",
    "version": 3
   },
   "file_extension": ".py",
   "mimetype": "text/x-python",
   "name": "python",
   "nbconvert_exporter": "python",
   "pygments_lexer": "ipython3",
   "version": "3.8.3"
  }
 },
 "nbformat": 4,
 "nbformat_minor": 4
}
