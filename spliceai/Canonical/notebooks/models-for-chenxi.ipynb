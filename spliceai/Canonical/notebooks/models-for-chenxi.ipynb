{
 "cells": [
  {
   "cell_type": "code",
   "execution_count": 1,
   "metadata": {},
   "outputs": [],
   "source": [
    "import os\n",
    "\n",
    "os.chdir(\"..\")\n",
    "os.environ[\"CUDA_VISIBLE_DEVICES\"] = \"3\""
   ]
  },
  {
   "cell_type": "code",
   "execution_count": 2,
   "metadata": {},
   "outputs": [],
   "source": [
    "%load_ext autoreload\n",
    "%autoreload 2\n",
    "%matplotlib inline"
   ]
  },
  {
   "cell_type": "code",
   "execution_count": 27,
   "metadata": {},
   "outputs": [],
   "source": [
    "import shutil\n",
    "\n",
    "from modular_splicing.models_for_testing.load_model_for_testing import step_for_density\n",
    "from modular_splicing.utils.io import model_steps"
   ]
  },
  {
   "cell_type": "code",
   "execution_count": 4,
   "metadata": {},
   "outputs": [],
   "source": [
    "sparsity = 0.178e-2"
   ]
  },
  {
   "cell_type": "code",
   "execution_count": 21,
   "metadata": {},
   "outputs": [],
   "source": [
    "def get_at_sparsity(v):\n",
    "    return f\"{v}/model/{step_for_density(v, sparsity)}\"\n",
    "\n",
    "def last_step(v):\n",
    "    s = max(model_steps(v))\n",
    "    return f\"{v}/model/{s}\""
   ]
  },
  {
   "cell_type": "code",
   "execution_count": 22,
   "metadata": {},
   "outputs": [],
   "source": [
    "paths = {\n",
    "    \"AM_21x2_1\": get_at_sparsity(\"model/rbnsp-80-adj2_1\"),\n",
    "    \"AM_13x4-nsp_1\": get_at_sparsity(\"model/rbnsp-80-adj13x4-nsp_1\"),\n",
    "    \"FM_1\": get_at_sparsity(\"model/rbnsp-67-adj2_1\"),\n",
    "    \"acceptor\": last_step(\"model/splicepoint-model-acceptor-1\"),\n",
    "    \"donor\": last_step(\"model/splicepoint-donor2-2.sh\"),\n",
    "}"
   ]
  },
  {
   "cell_type": "code",
   "execution_count": 29,
   "metadata": {},
   "outputs": [],
   "source": [
    "! mkdir ~/model-checkpoints"
   ]
  },
  {
   "cell_type": "code",
   "execution_count": 31,
   "metadata": {},
   "outputs": [],
   "source": [
    "for name in paths:\n",
    "    shutil.copy(paths[name], \"/scratch/kavig/model-checkpoints/\" + name)"
   ]
  },
  {
   "cell_type": "code",
   "execution_count": 33,
   "metadata": {},
   "outputs": [
    {
     "name": "stdout",
     "output_type": "stream",
     "text": [
      "  adding: scratch/kavig/model-checkpoints/ (stored 0%)\n",
      "  adding: scratch/kavig/model-checkpoints/FM_1 (deflated 9%)\n",
      "  adding: scratch/kavig/model-checkpoints/acceptor (deflated 9%)\n",
      "  adding: scratch/kavig/model-checkpoints/AM_21x2_1 (deflated 8%)\n",
      "  adding: scratch/kavig/model-checkpoints/donor (deflated 9%)\n",
      "  adding: scratch/kavig/model-checkpoints/AM_13x4-nsp_1 (deflated 8%)\n"
     ]
    }
   ],
   "source": [
    "! zip -r /scratch/kavig/model-checkpoints.zip /scratch/kavig/model-checkpoints/"
   ]
  },
  {
   "cell_type": "code",
   "execution_count": null,
   "metadata": {},
   "outputs": [],
   "source": []
  }
 ],
 "metadata": {
  "kernelspec": {
   "display_name": "Python 3",
   "language": "python",
   "name": "python3"
  },
  "language_info": {
   "codemirror_mode": {
    "name": "ipython",
    "version": 3
   },
   "file_extension": ".py",
   "mimetype": "text/x-python",
   "name": "python",
   "nbconvert_exporter": "python",
   "pygments_lexer": "ipython3",
   "version": "3.8.5"
  }
 },
 "nbformat": 4,
 "nbformat_minor": 4
}
